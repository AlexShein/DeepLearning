{
 "cells": [
  {
   "cell_type": "code",
   "execution_count": 9,
   "metadata": {},
   "outputs": [],
   "source": [
    "import os\n",
    "import numpy as np"
   ]
  },
  {
   "cell_type": "code",
   "execution_count": null,
   "metadata": {},
   "outputs": [],
   "source": [
    "mRNA_path = 'data_link/knownGene/50_last/'\n",
    "mRNA_files = os.listdir(mRNA_path)\n",
    "sequences = []\n",
    "for f_n in mRNA_files:\n",
    "    with open(os.path.join(mRNA_path, f_n), 'r') as file:\n",
    "        sequences.append(file.readlines()[1].strip().upper())\n",
    "# sequences = np.unique(sequences)\n",
    "\n",
    "with open('mRNA_50_last.txt', 'w') as file:\n",
    "    for seq in sequences:\n",
    "        file.write(seq)\n",
    "        file.write('\\n')\n",
    "\n",
    "\n",
    "mRNA_shuffled_path = 'data_link/knownGene/50_last_shuffled/'\n",
    "mRNA_shuffled_files = os.listdir(mRNA_shuffled_path)\n",
    "sequences = []\n",
    "for f_n in mRNA_shuffled_files:\n",
    "    with open(os.path.join(mRNA_shuffled_path, f_n), 'r') as file:\n",
    "        sequences.append(file.readlines()[0].strip().upper())\n",
    "# sequences = np.unique(sequences)\n",
    "\n",
    "with open('mRNA_50_last_shuffled.txt', 'w') as file:\n",
    "    for seq in sequences:\n",
    "        file.write(seq)\n",
    "        file.write('\\n')"
   ]
  },
  {
   "cell_type": "code",
   "execution_count": 10,
   "metadata": {},
   "outputs": [],
   "source": [
    "p_pseudo_path = 'data_link/pseudogenes/50_last/'\n",
    "p_pseudo_files = os.listdir(p_pseudo_path)\n",
    "sequences = []\n",
    "for f_n in p_pseudo_files:\n",
    "    with open(os.path.join(p_pseudo_path, f_n), 'r') as file:\n",
    "        sequences.append(file.readlines()[1].strip().upper())\n",
    "sequences = np.unique(sequences)\n",
    "\n",
    "with open('pseudogenes_50_last.txt', 'w') as file:\n",
    "    for seq in sequences:\n",
    "        file.write(seq)\n",
    "        file.write('\\n')\n",
    "\n",
    "\n",
    "p_pseudo_shuffled_path = 'data_link/pseudogenes/50_last_shuffled/'\n",
    "p_pseudo_shuffled_files = os.listdir(p_pseudo_shuffled_path)\n",
    "sequences = []\n",
    "for f_n in p_pseudo_shuffled_files:\n",
    "    with open(os.path.join(p_pseudo_shuffled_path, f_n), 'r') as file:\n",
    "        sequences.append(file.readlines()[0].strip().upper())\n",
    "sequences = np.unique(sequences)\n",
    "\n",
    "with open('pseudogenes_50_last_shuffled.txt', 'w') as file:\n",
    "    for seq in sequences:\n",
    "        file.write(seq)\n",
    "        file.write('\\n')"
   ]
  },
  {
   "cell_type": "code",
   "execution_count": 11,
   "metadata": {},
   "outputs": [],
   "source": [
    "p_pseudo_minus_path = 'data_link/pseudogenes/50_last_minus/'\n",
    "p_pseudo_minus_files = os.listdir(p_pseudo_minus_path)\n",
    "sequences = []\n",
    "for f_n in p_pseudo_minus_files:\n",
    "    with open(os.path.join(p_pseudo_minus_path, f_n), 'r') as file:\n",
    "        sequences.append(file.readlines()[1].strip().upper())\n",
    "sequences = np.unique(sequences)\n",
    "\n",
    "with open('pseudogenes_50_last.txt', 'a') as file:\n",
    "    for seq in sequences:\n",
    "        file.write(seq)\n",
    "        file.write('\\n')\n",
    "\n",
    "\n",
    "p_pseudo_minus_shuffled_path = 'data_link/pseudogenes/50_last_minus_shuffled/'\n",
    "p_pseudo_minus_shuffled_files = os.listdir(p_pseudo_minus_shuffled_path)\n",
    "sequences = []\n",
    "for f_n in p_pseudo_minus_shuffled_files:\n",
    "    with open(os.path.join(p_pseudo_minus_shuffled_path, f_n), 'r') as file:\n",
    "        sequences.append(file.readlines()[0].strip().upper())\n",
    "sequences = np.unique(sequences)\n",
    "\n",
    "with open('pseudogenes_50_last_shuffled.txt', 'a') as file:\n",
    "    for seq in sequences:\n",
    "        file.write(seq)\n",
    "        file.write('\\n')"
   ]
  },
  {
   "cell_type": "code",
   "execution_count": null,
   "metadata": {},
   "outputs": [],
   "source": []
  }
 ],
 "metadata": {
  "kernelspec": {
   "display_name": "Python 3",
   "language": "python",
   "name": "python3"
  },
  "language_info": {
   "codemirror_mode": {
    "name": "ipython",
    "version": 3
   },
   "file_extension": ".py",
   "mimetype": "text/x-python",
   "name": "python",
   "nbconvert_exporter": "python",
   "pygments_lexer": "ipython3",
   "version": "3.6.6"
  }
 },
 "nbformat": 4,
 "nbformat_minor": 2
}
