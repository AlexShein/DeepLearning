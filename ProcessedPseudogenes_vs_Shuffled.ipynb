{
 "cells": [
  {
   "cell_type": "code",
   "execution_count": 1,
   "metadata": {},
   "outputs": [],
   "source": [
    "import tensorflow as tf\n",
    "import numpy as np\n",
    "import tensorflow.keras as keras\n",
    "from tensorflow.keras.models import Sequential, Model\n",
    "from tensorflow.keras.layers import (\n",
    "    Dense,\n",
    "    Dropout,\n",
    "    Activation,\n",
    "    Input,\n",
    "    BatchNormalization,\n",
    "    Conv1D,\n",
    "    Flatten,\n",
    "    MaxPooling1D,\n",
    ")\n",
    "from tensorflow.keras.preprocessing.text import Tokenizer\n",
    "from tensorflow.keras.callbacks import EarlyStopping # early stopping\n",
    "from tensorflow.keras.regularizers import l1\n",
    "from sklearn.model_selection import train_test_split\n",
    "import pandas as pd\n",
    "\n",
    "from sklearn.metrics import roc_curve\n",
    "from sklearn.metrics import auc\n",
    "from matplotlib import pyplot as plt\n",
    "import seaborn as sns\n",
    "\n",
    "from confusion_matrix import plot_confusion_matrix\n",
    "sns.set()"
   ]
  },
  {
   "cell_type": "code",
   "execution_count": 50,
   "metadata": {},
   "outputs": [],
   "source": [
    "from pylab import rcParams\n",
    "\n",
    "rcParams['figure.figsize'] = 12, 8"
   ]
  },
  {
   "cell_type": "code",
   "execution_count": 3,
   "metadata": {},
   "outputs": [],
   "source": [
    "RANDOM_SEED = 333\n",
    "np.random.seed(RANDOM_SEED)"
   ]
  },
  {
   "cell_type": "markdown",
   "metadata": {},
   "source": [
    "## Prepare data"
   ]
  },
  {
   "cell_type": "code",
   "execution_count": 4,
   "metadata": {},
   "outputs": [],
   "source": [
    "from sklearn.preprocessing import OneHotEncoder\n",
    "\n",
    "\n",
    "def one_hot_dna(sequence):\n",
    "    seq_array = np.array(list(sequence))\n",
    "\n",
    "    # one hot encoding\n",
    "    onehot_encoder = OneHotEncoder(sparse=False)\n",
    "    # reshape because that's what OneHotEncoder likes\n",
    "    seq_array = seq_array.reshape(len(seq_array), 1)\n",
    "    onehot_encoded_seq = onehot_encoder.fit_transform(seq_array)\n",
    "    return onehot_encoded_seq"
   ]
  },
  {
   "cell_type": "code",
   "execution_count": 5,
   "metadata": {},
   "outputs": [],
   "source": [
    "with open('pseudogenes_50_last.txt', 'r') as file:\n",
    "    target_sequences = np.array([line.strip().upper() for line in file.readlines() if all(base in set(line) for base in 'ACTG')])\n",
    "with open('pseudogenes_50_last_shuffled.txt', 'r') as file:\n",
    "    non_target_sequences = np.array([line.strip().upper() for line in file.readlines() if all(base in set(line) for base in 'ACTG')])\n",
    "    \n",
    "CLASS_NAMES = ['P_Pseudo', 'Shuffled']"
   ]
  },
  {
   "cell_type": "code",
   "execution_count": 6,
   "metadata": {},
   "outputs": [
    {
     "data": {
      "text/plain": [
       "((9971,), (20198,))"
      ]
     },
     "execution_count": 6,
     "metadata": {},
     "output_type": "execute_result"
    }
   ],
   "source": [
    "target_sequences.shape, non_target_sequences.shape"
   ]
  },
  {
   "cell_type": "code",
   "execution_count": 7,
   "metadata": {},
   "outputs": [],
   "source": [
    "if target_sequences.shape[0] > non_target_sequences.shape[0]:\n",
    "    target_sequences_n = np.random.choice(\n",
    "        target_sequences,\n",
    "        non_target_sequences.shape[0],\n",
    "    )\n",
    "    non_target_sequences_n = non_target_sequences\n",
    "else:\n",
    "    target_sequences_n = target_sequences\n",
    "    non_target_sequences_n = np.random.choice(\n",
    "        non_target_sequences,\n",
    "        target_sequences.shape[0],\n",
    "    )\n",
    "\n",
    "\n",
    "\n",
    "X = np.concatenate((target_sequences_n, non_target_sequences_n))\n",
    "Y = pd.Series(np.append(\n",
    "    np.full(target_sequences_n.shape[0], 1),\n",
    "    np.full(non_target_sequences_n.shape[0], 0))\n",
    ")\n"
   ]
  },
  {
   "cell_type": "code",
   "execution_count": 8,
   "metadata": {},
   "outputs": [],
   "source": [
    "X = np.array([one_hot_dna(line) for line in X])\n",
    "Y = keras.utils.to_categorical(Y)"
   ]
  },
  {
   "cell_type": "code",
   "execution_count": 9,
   "metadata": {},
   "outputs": [],
   "source": [
    "X_train, X_test, Y_train, Y_test = train_test_split(X, Y, random_state=RANDOM_SEED)"
   ]
  },
  {
   "cell_type": "code",
   "execution_count": 10,
   "metadata": {},
   "outputs": [
    {
     "data": {
      "text/plain": [
       "(19942, 50, 4)"
      ]
     },
     "execution_count": 10,
     "metadata": {},
     "output_type": "execute_result"
    }
   ],
   "source": [
    "X.shape"
   ]
  },
  {
   "cell_type": "markdown",
   "metadata": {},
   "source": [
    "## Model "
   ]
  },
  {
   "cell_type": "code",
   "execution_count": 11,
   "metadata": {},
   "outputs": [
    {
     "name": "stdout",
     "output_type": "stream",
     "text": [
      "1.13.1\n",
      "2.2.4-tf\n"
     ]
    }
   ],
   "source": [
    "print(tf.VERSION)\n",
    "print(keras.__version__)"
   ]
  },
  {
   "cell_type": "code",
   "execution_count": 12,
   "metadata": {},
   "outputs": [],
   "source": [
    "num_classes = 2\n",
    "seq_len = len(X[0]) # 50\n",
    "nucleotides_count = len(X[0][0]) # 4\n",
    "epochs = 10\n",
    "batch_size = 100"
   ]
  },
  {
   "cell_type": "code",
   "execution_count": 14,
   "metadata": {},
   "outputs": [
    {
     "name": "stdout",
     "output_type": "stream",
     "text": [
      "WARNING:tensorflow:From /home/alexshein/.local/lib/python3.6/site-packages/tensorflow/python/ops/resource_variable_ops.py:435: colocate_with (from tensorflow.python.framework.ops) is deprecated and will be removed in a future version.\n",
      "Instructions for updating:\n",
      "Colocations handled automatically by placer.\n",
      "WARNING:tensorflow:From /home/alexshein/.local/lib/python3.6/site-packages/tensorflow/python/keras/layers/core.py:143: calling dropout (from tensorflow.python.ops.nn_ops) with keep_prob is deprecated and will be removed in a future version.\n",
      "Instructions for updating:\n",
      "Please use `rate` instead of `keep_prob`. Rate should be set to `rate = 1 - keep_prob`.\n"
     ]
    }
   ],
   "source": [
    "model = Sequential()\n",
    "model.add(Conv1D(50, 9, activation='relu', padding='same', input_shape=(seq_len, nucleotides_count)))\n",
    "model.add(MaxPooling1D(3))\n",
    "# model.add(Conv1D(seq_len, 3, activation='relu',))\n",
    "# model.add(MaxPooling1D())\n",
    "model.add(Dropout(0.25))\n",
    "model.add(Flatten())\n",
    "model.add(Dense(64, activation='relu'))\n",
    "model.add(Dropout(0.5))\n",
    "model.add(Dense(num_classes, activation='softmax'))\n",
    "\n",
    "model.compile(\n",
    "    loss='categorical_crossentropy',\n",
    "    optimizer='adam',\n",
    "    metrics=['accuracy'],\n",
    ")"
   ]
  },
  {
   "cell_type": "code",
   "execution_count": 15,
   "metadata": {},
   "outputs": [
    {
     "name": "stdout",
     "output_type": "stream",
     "text": [
      "_________________________________________________________________\n",
      "Layer (type)                 Output Shape              Param #   \n",
      "=================================================================\n",
      "conv1d (Conv1D)              (None, 50, 50)            1850      \n",
      "_________________________________________________________________\n",
      "max_pooling1d (MaxPooling1D) (None, 16, 50)            0         \n",
      "_________________________________________________________________\n",
      "dropout (Dropout)            (None, 16, 50)            0         \n",
      "_________________________________________________________________\n",
      "flatten (Flatten)            (None, 800)               0         \n",
      "_________________________________________________________________\n",
      "dense (Dense)                (None, 64)                51264     \n",
      "_________________________________________________________________\n",
      "dropout_1 (Dropout)          (None, 64)                0         \n",
      "_________________________________________________________________\n",
      "dense_1 (Dense)              (None, 2)                 130       \n",
      "=================================================================\n",
      "Total params: 53,244\n",
      "Trainable params: 53,244\n",
      "Non-trainable params: 0\n",
      "_________________________________________________________________\n",
      "None\n"
     ]
    }
   ],
   "source": [
    "print(model.summary())"
   ]
  },
  {
   "cell_type": "code",
   "execution_count": 16,
   "metadata": {},
   "outputs": [
    {
     "name": "stdout",
     "output_type": "stream",
     "text": [
      "Train on 13460 samples, validate on 1496 samples\n",
      "WARNING:tensorflow:From /home/alexshein/.local/lib/python3.6/site-packages/tensorflow/python/ops/math_ops.py:3066: to_int32 (from tensorflow.python.ops.math_ops) is deprecated and will be removed in a future version.\n",
      "Instructions for updating:\n",
      "Use tf.cast instead.\n",
      "Epoch 1/10\n",
      "13460/13460 [==============================] - 1s 95us/sample - loss: 0.6886 - acc: 0.5402 - val_loss: 0.6685 - val_acc: 0.5983\n",
      "Epoch 2/10\n",
      "13460/13460 [==============================] - 1s 52us/sample - loss: 0.6512 - acc: 0.6163 - val_loss: 0.6218 - val_acc: 0.6364\n",
      "Epoch 3/10\n",
      "13460/13460 [==============================] - 1s 50us/sample - loss: 0.6091 - acc: 0.6620 - val_loss: 0.5811 - val_acc: 0.6939\n",
      "Epoch 4/10\n",
      "13460/13460 [==============================] - 1s 50us/sample - loss: 0.5825 - acc: 0.6894 - val_loss: 0.5611 - val_acc: 0.7112\n",
      "Epoch 5/10\n",
      "13460/13460 [==============================] - 1s 50us/sample - loss: 0.5683 - acc: 0.7009 - val_loss: 0.5521 - val_acc: 0.7066\n",
      "Epoch 6/10\n",
      "13460/13460 [==============================] - 1s 50us/sample - loss: 0.5545 - acc: 0.7122 - val_loss: 0.5467 - val_acc: 0.7052\n",
      "Epoch 7/10\n",
      "13460/13460 [==============================] - 1s 52us/sample - loss: 0.5427 - acc: 0.7265 - val_loss: 0.5426 - val_acc: 0.7132\n",
      "Epoch 8/10\n",
      "13460/13460 [==============================] - 1s 51us/sample - loss: 0.5338 - acc: 0.7321 - val_loss: 0.5366 - val_acc: 0.7259\n",
      "Epoch 9/10\n",
      "13460/13460 [==============================] - 1s 60us/sample - loss: 0.5266 - acc: 0.7314 - val_loss: 0.5470 - val_acc: 0.7025\n",
      "Epoch 10/10\n",
      "13460/13460 [==============================] - 1s 56us/sample - loss: 0.5201 - acc: 0.7392 - val_loss: 0.5385 - val_acc: 0.7199\n"
     ]
    }
   ],
   "source": [
    "history = model.fit(\n",
    "    X_train, Y_train,\n",
    "    batch_size=batch_size,\n",
    "    epochs=epochs,\n",
    "    verbose=1,\n",
    "    validation_split=0.1,\n",
    "    callbacks=[EarlyStopping(monitor='val_loss', patience=5)],\n",
    ")"
   ]
  },
  {
   "cell_type": "code",
   "execution_count": 17,
   "metadata": {},
   "outputs": [
    {
     "name": "stdout",
     "output_type": "stream",
     "text": [
      "4986/4986 [==============================] - 0s 23us/sample - loss: 0.5529 - acc: 0.7186\n",
      "\n",
      "\n",
      "Test score: 0.5529365936675992\n",
      "Test accuracy: 0.71861213\n"
     ]
    }
   ],
   "source": [
    "# New\n",
    "score = model.evaluate(X_test, Y_test,\n",
    "                       batch_size=batch_size, verbose=1)\n",
    "print('\\n')\n",
    "print('Test score:', score[0])\n",
    "print('Test accuracy:', score[1])"
   ]
  },
  {
   "cell_type": "code",
   "execution_count": 18,
   "metadata": {},
   "outputs": [
    {
     "name": "stdout",
     "output_type": "stream",
     "text": [
      "4986/4986 [==============================] - 0s 56us/sample\n"
     ]
    }
   ],
   "source": [
    "Y_pred = model.predict_classes(X_test, verbose=1)"
   ]
  },
  {
   "cell_type": "code",
   "execution_count": 19,
   "metadata": {},
   "outputs": [
    {
     "name": "stdout",
     "output_type": "stream",
     "text": [
      "Normalized confusion matrix\n",
      "[[0.83513405 0.16486595]\n",
      " [0.39847205 0.60152795]]\n"
     ]
    },
    {
     "data": {
      "image/png": "[encoded data removed]",
      "text/plain": [
       "<Figure size 432x288 with 2 Axes>"
      ]
     },
     "metadata": {},
     "output_type": "display_data"
    }
   ],
   "source": [
    "Y_test_flat = np.array(list(map(lambda x: x[1]==1 and 1 or 0, Y_test)))\n",
    "with sns.axes_style(\"darkgrid\", {\"axes.grid\": False}):\n",
    "    plot_confusion_matrix(\n",
    "        Y_test_flat,\n",
    "        Y_pred,\n",
    "        classes=np.array(CLASS_NAMES),\n",
    "        normalize=True,\n",
    "        title=f'Confusion matrix for {CLASS_NAMES[0]} vs {CLASS_NAMES[1]}'\n",
    "    )"
   ]
  },
  {
   "cell_type": "code",
   "execution_count": 20,
   "metadata": {},
   "outputs": [
    {
     "name": "stdout",
     "output_type": "stream",
     "text": [
      "4986/4986 [==============================] - 0s 33us/sample\n"
     ]
    }
   ],
   "source": [
    "Y_pred_probas = model.predict(X_test, verbose=1)[:,1]\n",
    "fpr_keras, tpr_keras, thresholds_keras = roc_curve(Y_test_flat, Y_pred_probas)\n",
    "auc_keras = auc(fpr_keras, tpr_keras)\n"
   ]
  },
  {
   "cell_type": "code",
   "execution_count": 21,
   "metadata": {},
   "outputs": [
    {
     "data": {
      "text/plain": [
       "<matplotlib.legend.Legend at 0x7f4e104c0b70>"
      ]
     },
     "execution_count": 21,
     "metadata": {},
     "output_type": "execute_result"
    },
    {
     "data": {
      "image/png": "[encoded data removed]",
      "text/plain": [
       "<Figure size 432x288 with 1 Axes>"
      ]
     },
     "metadata": {
      "needs_background": "light"
     },
     "output_type": "display_data"
    }
   ],
   "source": [
    "plt.plot(fpr_keras, tpr_keras, label='Keras (area = {:.3f})'.format(auc_keras))\n",
    "plt.legend(loc='lower right')"
   ]
  },
  {
   "cell_type": "code",
   "execution_count": 22,
   "metadata": {},
   "outputs": [
    {
     "name": "stdout",
     "output_type": "stream",
     "text": [
      "_________________________________________________________________\n",
      "Layer (type)                 Output Shape              Param #   \n",
      "=================================================================\n",
      "conv1d_input (InputLayer)    (None, 50, 4)             0         \n",
      "_________________________________________________________________\n",
      "conv1d (Conv1D)              (None, 50, 50)            1850      \n",
      "=================================================================\n",
      "Total params: 1,850\n",
      "Trainable params: 1,850\n",
      "Non-trainable params: 0\n",
      "_________________________________________________________________\n"
     ]
    }
   ],
   "source": [
    "#Preparing Indermediate model-removing last sigmoid layer\n",
    "intermediate_layer_model = Model(inputs=model.input,outputs=model.get_layer('conv1d').output)\n",
    "intermediate_layer_model.summary()"
   ]
  },
  {
   "cell_type": "code",
   "execution_count": 23,
   "metadata": {},
   "outputs": [],
   "source": [
    "abc = intermediate_layer_model.predict(np.expand_dims(X_test[0], axis=0))"
   ]
  },
  {
   "cell_type": "code",
   "execution_count": 24,
   "metadata": {},
   "outputs": [
    {
     "data": {
      "text/plain": [
       "50"
      ]
     },
     "execution_count": 24,
     "metadata": {},
     "output_type": "execute_result"
    }
   ],
   "source": [
    "len(abc[0])"
   ]
  },
  {
   "cell_type": "code",
   "execution_count": 25,
   "metadata": {},
   "outputs": [
    {
     "data": {
      "text/plain": [
       "0.8598492592573166"
      ]
     },
     "execution_count": 25,
     "metadata": {},
     "output_type": "execute_result"
    }
   ],
   "source": [
    "sum(abc[0][1])"
   ]
  },
  {
   "cell_type": "code",
   "execution_count": 26,
   "metadata": {},
   "outputs": [
    {
     "data": {
      "text/plain": [
       "array([0.        , 0.        , 0.        , 0.12040411, 0.        ,\n",
       "       0.05146318, 0.        , 0.        , 0.        , 0.        ,\n",
       "       0.        , 0.        , 0.        , 0.        , 0.        ,\n",
       "       0.        , 0.        , 0.        , 0.        , 0.1507902 ,\n",
       "       0.0960687 , 0.        , 0.14137957, 0.        , 0.        ,\n",
       "       0.        , 0.00648642, 0.        , 0.        , 0.        ,\n",
       "       0.        , 0.        , 0.        , 0.        , 0.012343  ,\n",
       "       0.        , 0.        , 0.        , 0.        , 0.        ,\n",
       "       0.15199462, 0.        , 0.        , 0.12891948, 0.        ,\n",
       "       0.        , 0.        , 0.        , 0.        , 0.        ],\n",
       "      dtype=float32)"
      ]
     },
     "execution_count": 26,
     "metadata": {},
     "output_type": "execute_result"
    }
   ],
   "source": [
    "abc[0][1]\n"
   ]
  },
  {
   "cell_type": "code",
   "execution_count": 27,
   "metadata": {},
   "outputs": [],
   "source": [
    "np.savetxt(\"temp.csv\", abc[0], delimiter=\",\")"
   ]
  },
  {
   "cell_type": "code",
   "execution_count": 64,
   "metadata": {},
   "outputs": [
    {
     "data": {
      "image/png": "[encoded data removed]",
      "text/plain": [
       "<Figure size 864x576 with 1 Axes>"
      ]
     },
     "metadata": {
      "needs_background": "light"
     },
     "output_type": "display_data"
    }
   ],
   "source": [
    "plt.xticks(list(range(1,51)), tmp)\n",
    "for arr in abc[0].T:\n",
    "#     plt.bar(tmp, arr)\n",
    "    plt.bar(list(range(1,51)), arr)\n",
    "# plt.bar(list(range(1,51)), abc[0][:,1])"
   ]
  },
  {
   "cell_type": "code",
   "execution_count": 43,
   "metadata": {},
   "outputs": [
    {
     "data": {
      "text/plain": [
       "array([ True, False,  True,  True,  True, False,  True,  True,  True,\n",
       "        True,  True, False,  True, False, False,  True,  True, False,\n",
       "       False,  True,  True,  True, False,  True,  True,  True, False,\n",
       "        True,  True,  True, False,  True, False,  True,  True,  True,\n",
       "       False,  True,  True,  True, False,  True,  True, False, False,\n",
       "        True, False, False,  True,  True])"
      ]
     },
     "execution_count": 43,
     "metadata": {},
     "output_type": "execute_result"
    }
   ],
   "source": [
    "abc[0][:,][0] == abc[0][:,1]"
   ]
  },
  {
   "cell_type": "code",
   "execution_count": 47,
   "metadata": {},
   "outputs": [
    {
     "data": {
      "text/plain": [
       "array([ True,  True,  True,  True,  True,  True,  True,  True,  True,\n",
       "        True,  True,  True,  True,  True,  True,  True,  True,  True,\n",
       "        True,  True,  True,  True,  True,  True,  True,  True,  True,\n",
       "        True,  True,  True,  True,  True,  True,  True,  True,  True,\n",
       "        True,  True,  True,  True,  True,  True,  True,  True,  True,\n",
       "        True,  True,  True,  True,  True])"
      ]
     },
     "execution_count": 47,
     "metadata": {},
     "output_type": "execute_result"
    }
   ],
   "source": [
    "abc[0].T[0,:] == abc[0][:,0]"
   ]
  },
  {
   "cell_type": "code",
   "execution_count": 52,
   "metadata": {},
   "outputs": [
    {
     "data": {
      "text/plain": [
       "array([0.        , 0.        , 0.        , 0.        , 0.        ,\n",
       "       0.        , 0.        , 0.        , 0.        , 0.        ,\n",
       "       0.        , 0.21233149, 0.        , 0.        , 0.        ,\n",
       "       0.        , 0.        , 0.25312126, 0.        , 0.        ,\n",
       "       0.        , 0.        , 0.        , 0.        , 0.        ,\n",
       "       0.        , 0.        , 0.        , 0.        , 0.        ,\n",
       "       0.        , 0.        , 0.08065166, 0.        , 0.        ,\n",
       "       0.        , 0.03447679, 0.        , 0.        , 0.        ,\n",
       "       0.1598326 , 0.        , 0.        , 0.23354973, 0.        ,\n",
       "       0.        , 0.        , 0.        , 0.        , 0.        ],\n",
       "      dtype=float32)"
      ]
     },
     "execution_count": 52,
     "metadata": {},
     "output_type": "execute_result"
    }
   ],
   "source": [
    "abc[0][:,0]"
   ]
  },
  {
   "cell_type": "code",
   "execution_count": 57,
   "metadata": {},
   "outputs": [
    {
     "data": {
      "text/plain": [
       "['G',\n",
       " 'G',\n",
       " 'C',\n",
       " 'A',\n",
       " 'C',\n",
       " 'G',\n",
       " 'T',\n",
       " 'C',\n",
       " 'C',\n",
       " 'A',\n",
       " 'A',\n",
       " 'A',\n",
       " 'A',\n",
       " 'A',\n",
       " 'G',\n",
       " 'C',\n",
       " 'G',\n",
       " 'G',\n",
       " 'A',\n",
       " 'A',\n",
       " 'C',\n",
       " 'C',\n",
       " 'G',\n",
       " 'G',\n",
       " 'G',\n",
       " 'G',\n",
       " 'T',\n",
       " 'G',\n",
       " 'C',\n",
       " 'C',\n",
       " 'G',\n",
       " 'G',\n",
       " 'C',\n",
       " 'A',\n",
       " 'A',\n",
       " 'G',\n",
       " 'T',\n",
       " 'A',\n",
       " 'T',\n",
       " 'T',\n",
       " 'G',\n",
       " 'A',\n",
       " 'A',\n",
       " 'G',\n",
       " 'A',\n",
       " 'T',\n",
       " 'G',\n",
       " 'C',\n",
       " 'A',\n",
       " 'A']"
      ]
     },
     "execution_count": 57,
     "metadata": {},
     "output_type": "execute_result"
    }
   ],
   "source": [
    "list(map(lambda x: x[0] and 'A' or x[1] and 'C' or x[2] and 'T' or x[3] and 'G', X_test[0]))"
   ]
  },
  {
   "cell_type": "code",
   "execution_count": 60,
   "metadata": {},
   "outputs": [],
   "source": [
    "tmp = list(map(lambda x: x[0] and 'A' or x[1] and 'C' or x[2] and 'T' or x[3] and 'G', X_test[0]))"
   ]
  },
  {
   "cell_type": "code",
   "execution_count": 65,
   "metadata": {},
   "outputs": [
    {
     "data": {
      "text/plain": [
       "'GGCACGTCCAAAAAGCGGAACCGGGGTGCCGGCAAGTATTGAAGATGCAA'"
      ]
     },
     "execution_count": 65,
     "metadata": {},
     "output_type": "execute_result"
    }
   ],
   "source": [
    "''.join(tmp)"
   ]
  },
  {
   "cell_type": "code",
   "execution_count": 68,
   "metadata": {},
   "outputs": [],
   "source": [
    "weights = intermediate_layer_model.get_weights()"
   ]
  },
  {
   "cell_type": "code",
   "execution_count": 70,
   "metadata": {},
   "outputs": [
    {
     "data": {
      "text/plain": [
       "2"
      ]
     },
     "execution_count": 70,
     "metadata": {},
     "output_type": "execute_result"
    }
   ],
   "source": [
    "len(weights)"
   ]
  },
  {
   "cell_type": "code",
   "execution_count": 72,
   "metadata": {},
   "outputs": [
    {
     "data": {
      "text/plain": [
       "(9, 4, 50)"
      ]
     },
     "execution_count": 72,
     "metadata": {},
     "output_type": "execute_result"
    }
   ],
   "source": [
    "weights[0].shape"
   ]
  },
  {
   "cell_type": "code",
   "execution_count": 73,
   "metadata": {},
   "outputs": [
    {
     "data": {
      "text/plain": [
       "(50,)"
      ]
     },
     "execution_count": 73,
     "metadata": {},
     "output_type": "execute_result"
    }
   ],
   "source": [
    "weights[1].shape"
   ]
  },
  {
   "cell_type": "code",
   "execution_count": 76,
   "metadata": {},
   "outputs": [
    {
     "data": {
      "text/plain": [
       "[(0, -0.044067908),\n",
       " (1, -0.027067872),\n",
       " (2, -0.01794202),\n",
       " (3, -0.05890596),\n",
       " (4, -0.0074881385),\n",
       " (5, -0.018454056),\n",
       " (6, -0.04063583),\n",
       " (7, -0.059400793),\n",
       " (8, -0.02135354),\n",
       " (9, -0.031166071),\n",
       " (10, -0.020166585),\n",
       " (11, -0.03091251),\n",
       " (12, -0.02551307),\n",
       " (13, -0.04569854),\n",
       " (14, -0.04243995),\n",
       " (15, -0.037581548),\n",
       " (16, -0.0070593),\n",
       " (17, -0.016255386),\n",
       " (18, -0.034860007),\n",
       " (19, -0.015887583),\n",
       " (20, -0.041035492),\n",
       " (21, -0.031199757),\n",
       " (22, -0.049188763),\n",
       " (23, -0.019499153),\n",
       " (24, -0.010155387),\n",
       " (25, -0.014134771),\n",
       " (26, -0.020115051),\n",
       " (27, -0.025978843),\n",
       " (28, -0.029503228),\n",
       " (29, -0.04445637),\n",
       " (30, -0.052959338),\n",
       " (31, -0.0762123),\n",
       " (32, -0.12619233),\n",
       " (33, -0.064212896),\n",
       " (34, -0.068661034),\n",
       " (35, -0.014178973),\n",
       " (36, -0.025752174),\n",
       " (37, -0.040019445),\n",
       " (38, -0.04360886),\n",
       " (39, -0.025380181),\n",
       " (40, -0.030185224),\n",
       " (41, -0.042787015),\n",
       " (42, -0.01398427),\n",
       " (43, 0.018097376),\n",
       " (44, -0.059883084),\n",
       " (45, -0.046088766),\n",
       " (46, -0.011247254),\n",
       " (47, 0.00078073714),\n",
       " (48, -0.02694956),\n",
       " (49, -0.029163044)]"
      ]
     },
     "execution_count": 76,
     "metadata": {},
     "output_type": "execute_result"
    }
   ],
   "source": [
    "list(enumerate(weights[1]))"
   ]
  },
  {
   "cell_type": "code",
   "execution_count": 77,
   "metadata": {},
   "outputs": [
    {
     "data": {
      "text/plain": [
       "array([0.        , 0.12891948, 0.        , 0.        , 0.1717746 ,\n",
       "       0.        , 0.        , 0.        , 0.        , 0.        ,\n",
       "       0.04227116, 0.        , 0.        , 0.        , 0.        ,\n",
       "       0.        , 0.13925569, 0.13821855, 0.        , 0.        ,\n",
       "       0.        , 0.        , 0.        , 0.06915971, 0.13520557,\n",
       "       0.        , 0.        , 0.        , 0.        , 0.        ,\n",
       "       0.        , 0.37405065, 0.        , 0.        , 0.        ,\n",
       "       0.        , 0.        , 0.        , 0.        , 0.        ,\n",
       "       0.        , 0.        , 0.        , 0.        , 0.        ,\n",
       "       0.        , 0.        , 0.        , 0.        , 0.11432578],\n",
       "      dtype=float32)"
      ]
     },
     "execution_count": 77,
     "metadata": {},
     "output_type": "execute_result"
    }
   ],
   "source": [
    "abc[0][:,43]"
   ]
  },
  {
   "cell_type": "code",
   "execution_count": 78,
   "metadata": {},
   "outputs": [
    {
     "data": {
      "text/plain": [
       "array([0.05767085, 0.        , 0.34713033, 0.        , 0.        ,\n",
       "       0.        , 0.        , 0.        , 0.        , 0.        ,\n",
       "       0.        , 0.        , 0.        , 0.        , 0.        ,\n",
       "       0.        , 0.        , 0.04859332, 0.05444691, 0.        ,\n",
       "       0.        , 0.        , 0.        , 0.        , 0.        ,\n",
       "       0.        , 0.        , 0.        , 0.        , 0.        ,\n",
       "       0.        , 0.        , 0.16476421, 0.        , 0.        ,\n",
       "       0.        , 0.        , 0.        , 0.        , 0.        ,\n",
       "       0.00062095, 0.        , 0.        , 0.        , 0.        ,\n",
       "       0.        , 0.        , 0.09413698, 0.        , 0.        ],\n",
       "      dtype=float32)"
      ]
     },
     "execution_count": 78,
     "metadata": {},
     "output_type": "execute_result"
    }
   ],
   "source": [
    "abc[0][:,47]"
   ]
  },
  {
   "cell_type": "code",
   "execution_count": 79,
   "metadata": {},
   "outputs": [
    {
     "data": {
      "text/plain": [
       "array([0.        , 0.        , 0.        , 0.14652802, 0.        ,\n",
       "       0.        , 0.        , 0.        , 0.        , 0.        ,\n",
       "       0.        , 0.        , 0.        , 0.        , 0.        ,\n",
       "       0.        , 0.        , 0.        , 0.        , 0.        ,\n",
       "       0.        , 0.        , 0.        , 0.        , 0.        ,\n",
       "       0.        , 0.        , 0.        , 0.        , 0.04538103,\n",
       "       0.        , 0.        , 0.        , 0.16509607, 0.        ,\n",
       "       0.        , 0.        , 0.        , 0.        , 0.        ,\n",
       "       0.        , 0.        , 0.        , 0.        , 0.        ,\n",
       "       0.        , 0.        , 0.        , 0.        , 0.07343224],\n",
       "      dtype=float32)"
      ]
     },
     "execution_count": 79,
     "metadata": {},
     "output_type": "execute_result"
    }
   ],
   "source": [
    "abc[0][:,48]"
   ]
  },
  {
   "cell_type": "code",
   "execution_count": null,
   "metadata": {},
   "outputs": [],
   "source": []
  }
 ],
 "metadata": {
  "kernelspec": {
   "display_name": "Python 3",
   "language": "python",
   "name": "python3"
  },
  "language_info": {
   "codemirror_mode": {
    "name": "ipython",
    "version": 3
   },
   "file_extension": ".py",
   "mimetype": "text/x-python",
   "name": "python",
   "nbconvert_exporter": "python",
   "pygments_lexer": "ipython3",
   "version": "3.6.6"
  }
 },
 "nbformat": 4,
 "nbformat_minor": 2
}
