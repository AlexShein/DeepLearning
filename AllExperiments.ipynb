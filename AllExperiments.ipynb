{
 "cells": [
  {
   "cell_type": "code",
   "execution_count": 22,
   "metadata": {},
   "outputs": [],
   "source": [
    "import numpy as np\n",
    "import pandas as pd\n",
    "import seaborn as sns\n",
    "from matplotlib import pyplot as plt\n",
    "from sklearn.metrics import (\n",
    "    accuracy_score,\n",
    "    auc,\n",
    "    average_precision_score,\n",
    "    precision_recall_curve,\n",
    "    precision_score,\n",
    "    recall_score,\n",
    "    roc_curve\n",
    ")\n",
    "from sklearn.model_selection import KFold, train_test_split\n",
    "from sklearn.preprocessing import OneHotEncoder\n",
    "\n",
    "import tensorflow as tf\n",
    "import tensorflow.keras as keras\n",
    "from confusion_matrix import plot_confusion_matrix\n",
    "from tensorflow.keras.callbacks import EarlyStopping  # early stopping\n",
    "from tensorflow.keras.layers import (\n",
    "    Activation,\n",
    "    BatchNormalization,\n",
    "    Conv1D,\n",
    "    Dense,\n",
    "    Dropout,\n",
    "    Flatten,\n",
    "    GlobalAveragePooling1D,\n",
    "    Input,\n",
    "    MaxPooling1D\n",
    ")\n",
    "from tensorflow.keras.models import Sequential\n",
    "from tensorflow.keras.preprocessing.text import Tokenizer\n",
    "from tensorflow.keras.regularizers import l1\n",
    "\n",
    "sns.set()"
   ]
  },
  {
   "cell_type": "code",
   "execution_count": 23,
   "metadata": {},
   "outputs": [],
   "source": [
    "from pylab import rcParams\n",
    "\n",
    "# rcParams['figure.figsize'] = 12, 8"
   ]
  },
  {
   "cell_type": "code",
   "execution_count": 24,
   "metadata": {},
   "outputs": [],
   "source": [
    "RANDOM_SEED = 333\n",
    "np.random.seed(RANDOM_SEED)"
   ]
  },
  {
   "cell_type": "code",
   "execution_count": 25,
   "metadata": {},
   "outputs": [],
   "source": [
    "CSV_RESULTS_FOLDER = 'csv_results'"
   ]
  },
  {
   "cell_type": "markdown",
   "metadata": {},
   "source": [
    "# Models"
   ]
  },
  {
   "cell_type": "code",
   "execution_count": 26,
   "metadata": {},
   "outputs": [],
   "source": [
    "NUM_CLASSES = 2\n",
    "SEQ_LEN = 50\n",
    "NUCLEOTIDES_COUNT = 4\n",
    "EPOCHS = 10\n",
    "BATCH_SIZE = 100"
   ]
  },
  {
   "cell_type": "code",
   "execution_count": 27,
   "metadata": {},
   "outputs": [
    {
     "name": "stdout",
     "output_type": "stream",
     "text": [
      "_________________________________________________________________\n",
      "Layer (type)                 Output Shape              Param #   \n",
      "=================================================================\n",
      "conv1d_6 (Conv1D)            (None, 48, 100)           1300      \n",
      "_________________________________________________________________\n",
      "conv1d_7 (Conv1D)            (None, 46, 100)           30100     \n",
      "_________________________________________________________________\n",
      "max_pooling1d_2 (MaxPooling1 (None, 15, 100)           0         \n",
      "_________________________________________________________________\n",
      "conv1d_8 (Conv1D)            (None, 11, 100)           50100     \n",
      "_________________________________________________________________\n",
      "global_average_pooling1d_2 ( (None, 100)               0         \n",
      "_________________________________________________________________\n",
      "dropout_4 (Dropout)          (None, 100)               0         \n",
      "_________________________________________________________________\n",
      "dense_3 (Dense)              (None, 128)               12928     \n",
      "_________________________________________________________________\n",
      "dropout_5 (Dropout)          (None, 128)               0         \n",
      "_________________________________________________________________\n",
      "dense_4 (Dense)              (None, 2)                 258       \n",
      "=================================================================\n",
      "Total params: 94,686\n",
      "Trainable params: 94,686\n",
      "Non-trainable params: 0\n",
      "_________________________________________________________________\n",
      "None\n"
     ]
    }
   ],
   "source": [
    "model1 = Sequential()\n",
    "model1.add(Conv1D(100, 3, activation='relu', input_shape=(SEQ_LEN, NUCLEOTIDES_COUNT)))\n",
    "model1.add(Conv1D(100, 3, activation='relu'))\n",
    "model1.add(MaxPooling1D(3))\n",
    "model1.add(Conv1D(100, 5, activation='relu',))\n",
    "model1.add(GlobalAveragePooling1D())\n",
    "model1.add(Dropout(0.25))\n",
    "# model1.add(Flatten())\n",
    "model1.add(Dense(128, activation='relu'))\n",
    "model1.add(Dropout(0.25))\n",
    "model1.add(Dense(NUM_CLASSES, activation='softmax'))\n",
    "\n",
    "model1.compile(\n",
    "    loss='categorical_crossentropy',\n",
    "    optimizer='adam',\n",
    "    metrics=['accuracy'],\n",
    ")\n",
    "print(model1.summary())"
   ]
  },
  {
   "cell_type": "code",
   "execution_count": null,
   "metadata": {},
   "outputs": [],
   "source": []
  },
  {
   "cell_type": "code",
   "execution_count": 28,
   "metadata": {},
   "outputs": [],
   "source": [
    "models = {'3 CNN Layers': model1,}"
   ]
  },
  {
   "cell_type": "markdown",
   "metadata": {},
   "source": [
    "## Prepare data"
   ]
  },
  {
   "cell_type": "code",
   "execution_count": 29,
   "metadata": {},
   "outputs": [],
   "source": [
    "def one_hot_dna(sequence):\n",
    "    seq_array = np.array(list(sequence))\n",
    "\n",
    "    # one hot encoding\n",
    "    onehot_encoder = OneHotEncoder(sparse=False)\n",
    "    # reshape because that's what OneHotEncoder likes\n",
    "    seq_array = seq_array.reshape(len(seq_array), 1)\n",
    "    onehot_encoded_seq = onehot_encoder.fit_transform(seq_array)\n",
    "    return onehot_encoded_seq"
   ]
  },
  {
   "cell_type": "code",
   "execution_count": 30,
   "metadata": {},
   "outputs": [],
   "source": [
    "def read_dataframes(target_path, non_target_path):\n",
    "\n",
    "    with open(target_path, 'r') as file:\n",
    "        target_sequences = np.array([line.strip().upper() for line in file.readlines() if all(base in set(line) for base in 'ACTG')])\n",
    "    with open(non_target_path, 'r') as file:\n",
    "        non_target_sequences = np.array([line.strip().upper() for line in file.readlines() if all(base in set(line) for base in 'ACTG')])\n",
    "\n",
    "    return (target_sequences, non_target_sequences)\n"
   ]
  },
  {
   "cell_type": "code",
   "execution_count": 31,
   "metadata": {},
   "outputs": [],
   "source": [
    "def normalize_datasets(target_sequences, non_target_sequences):\n",
    "    \n",
    "    if target_sequences.shape[0] > non_target_sequences.shape[0]:\n",
    "        target_sequences_n = np.random.choice(\n",
    "            target_sequences,\n",
    "            non_target_sequences.shape[0],\n",
    "        )\n",
    "        non_target_sequences_n = non_target_sequences\n",
    "    else:\n",
    "        target_sequences_n = target_sequences\n",
    "        non_target_sequences_n = np.random.choice(\n",
    "            non_target_sequences,\n",
    "            target_sequences.shape[0],\n",
    "        )\n",
    "\n",
    "    X = np.concatenate((target_sequences_n, non_target_sequences_n))\n",
    "    Y = pd.Series(np.append(\n",
    "        np.full(target_sequences_n.shape[0], 1),\n",
    "        np.full(non_target_sequences_n.shape[0], 0))\n",
    "    )\n",
    "    \n",
    "    X = np.array([one_hot_dna(line) for line in X])\n",
    "    Y = keras.utils.to_categorical(Y)\n",
    "    \n",
    "    return (X, Y)\n"
   ]
  },
  {
   "cell_type": "code",
   "execution_count": 49,
   "metadata": {},
   "outputs": [],
   "source": [
    "def compute_metrics(X, Y, model):\n",
    "    # ROC vars\n",
    "    tprs = []\n",
    "    aucs, acc, rec, prec = [], [], [], []\n",
    "    mean_fpr = np.linspace(0, 1, 100)\n",
    "    i = 0\n",
    "    # Precision-recall vars\n",
    "    precisions = []\n",
    "    best_precision = {\"precision_score\": 0.0, \"precision\": None, \"recall\": None}\n",
    "\n",
    "    folded_data = KFold(n_splits=2, random_state=RANDOM_SEED, shuffle=True)\n",
    "\n",
    "    for k, (train, test) in enumerate(folded_data.split(X, Y)):\n",
    "        Y_test_flat = np.array(list(map(lambda x: x[1] == 1 and 1 or 0, Y[test])))\n",
    "        model.fit(\n",
    "            X[train],\n",
    "            Y[train],\n",
    "            # Keras special args\n",
    "            batch_size=BATCH_SIZE,\n",
    "            epochs=EPOCHS,\n",
    "            verbose=1,\n",
    "            validation_split=0.1,\n",
    "            callbacks=[EarlyStopping(monitor='val_loss', patience=5)],\n",
    "            )\n",
    "        probas_ = model.predict(X[test])\n",
    "        # Compute ROC curve and area the curve\n",
    "        fpr, tpr, thresholds = roc_curve(Y_test_flat, probas_[:, 1])\n",
    "        tprs.append(np.interp(mean_fpr, fpr, tpr))\n",
    "        tprs[-1][0] = 0.0\n",
    "        roc_auc = auc(fpr, tpr)\n",
    "        aucs.append(roc_auc)\n",
    "\n",
    "        Y_pred = model.predict_classes(X[test])\n",
    "\n",
    "        acc.append(accuracy_score(Y_test_flat, Y_pred))\n",
    "        prec.append(precision_score(Y_test_flat, Y_pred))\n",
    "        rec.append(recall_score(Y_test_flat, Y_pred))\n",
    "        # Compute precision, recall\n",
    "        precision, recall, _ = precision_recall_curve(Y_test_flat, probas_[:, 1])\n",
    "        average_precision = average_precision_score(Y_test_flat, probas_[:, 1])\n",
    "        if average_precision > best_precision[\"precision_score\"]:\n",
    "            best_precision[\"precision\"] = precision\n",
    "            best_precision[\"recall\"] = recall\n",
    "            best_precision[\"precision_score\"] = average_precision\n",
    "        precisions.append(average_precision)\n",
    "        \n",
    "    mean_tpr = np.mean(tprs, axis=0)\n",
    "    mean_tpr[-1] = 1.0\n",
    "\n",
    "        \n",
    "    return mean_fpr, mean_tpr, best_precision\n"
   ]
  },
  {
   "cell_type": "code",
   "execution_count": 50,
   "metadata": {},
   "outputs": [],
   "source": [
    "def run_experiment(datasets, model, model_name):\n",
    "    '''\n",
    "    datasets: a dict like {\n",
    "    'L1': 'data_link/L1/data/all_50_last.txt',\n",
    "    'p_pseudo': 'pseudogenes_50_last.txt',\n",
    "    }\n",
    "    model: keras model\n",
    "    model_name: str\n",
    "    '''\n",
    "\n",
    "    CLASS_1, CLASS_2 = datasets.keys()\n",
    "    target_path, non_target_path = datasets.values()\n",
    "    # Read data\n",
    "    target_sequences, non_target_sequences = read_dataframes(target_path, non_target_path)\n",
    "    X, Y = normalize_datasets(target_sequences, non_target_sequences)\n",
    "\n",
    "    # Use 5 fold to evaluate model\n",
    "    mean_fpr, mean_tpr, best_precision = compute_metrics(X, Y, model)\n",
    "\n",
    "    # Create file names\n",
    "    CSV_FILE_SUBNAME_OBJECTS = f\"{CLASS_1}_vs_{CLASS_2}\" # \"True_vs_False\"\n",
    "    CSV_FILE_SUBNAME = f\"{CSV_FILE_SUBNAME_OBJECTS}_{model_name}\"\n",
    "    \n",
    "    # Write results to csv\n",
    "    # ROC\n",
    "    pd.DataFrame({\n",
    "        \"fpr\": mean_fpr,\n",
    "        \"tpr\": mean_tpr\n",
    "    }).to_csv(\n",
    "        f\"{CSV_RESULTS_FOLDER}/ROC__{CSV_FILE_SUBNAME}.csv\",\n",
    "        index=False\n",
    "    )\n",
    "    # Precision-recall\n",
    "    pd.DataFrame({\n",
    "        \"precision\": best_precision[\"precision\"],\n",
    "        \"recall\": best_precision[\"recall\"]\n",
    "    }).to_csv(\n",
    "        f\"{CSV_RESULTS_FOLDER}/Precision-Recall__{CSV_FILE_SUBNAME}.csv\",\n",
    "        index=False\n",
    "    )\n",
    "    #     pd.DataFrame(fi).to_csv(\"Feature_importance__{0}.csv\".format(CSV_FILE_SUBNAME), index=False)\n",
    "\n",
    "\n",
    "\n",
    "\n",
    "\n"
   ]
  },
  {
   "cell_type": "markdown",
   "metadata": {},
   "source": [
    "# Experiments"
   ]
  },
  {
   "cell_type": "code",
   "execution_count": 51,
   "metadata": {},
   "outputs": [],
   "source": [
    "experiments = [\n",
    "    {\n",
    "    'L1': 'data_link/L1/data/all_50_last.txt',\n",
    "    'p_pseudo': 'pseudogenes_50_last.txt',\n",
    "    },\n",
    "    \n",
    "]"
   ]
  },
  {
   "cell_type": "code",
   "execution_count": 52,
   "metadata": {},
   "outputs": [
    {
     "name": "stdout",
     "output_type": "stream",
     "text": [
      "Train on 5959 samples, validate on 663 samples\n",
      "Epoch 1/10\n",
      "5959/5959 [==============================] - 1s 137us/sample - loss: 0.0051 - acc: 0.9988 - val_loss: 0.0020 - val_acc: 1.0000\n",
      "Epoch 2/10\n",
      "5959/5959 [==============================] - 1s 136us/sample - loss: 0.0062 - acc: 0.9971 - val_loss: 0.0227 - val_acc: 0.9940\n",
      "Epoch 3/10\n",
      "5959/5959 [==============================] - 1s 137us/sample - loss: 0.0039 - acc: 0.9990 - val_loss: 0.0108 - val_acc: 0.9955\n",
      "Epoch 4/10\n",
      "5959/5959 [==============================] - 1s 138us/sample - loss: 7.1727e-04 - acc: 1.0000 - val_loss: 0.0049 - val_acc: 0.9985\n",
      "Epoch 5/10\n",
      "5959/5959 [==============================] - 1s 138us/sample - loss: 5.1959e-04 - acc: 0.9998 - val_loss: 0.0151 - val_acc: 0.9955\n",
      "Epoch 6/10\n",
      "5959/5959 [==============================] - 1s 137us/sample - loss: 4.8239e-04 - acc: 1.0000 - val_loss: 0.0049 - val_acc: 0.9970\n",
      "Train on 5959 samples, validate on 663 samples\n",
      "Epoch 1/10\n",
      "5959/5959 [==============================] - 1s 137us/sample - loss: 0.0036 - acc: 0.9990 - val_loss: 0.0068 - val_acc: 0.9970\n",
      "Epoch 2/10\n",
      "5959/5959 [==============================] - 1s 137us/sample - loss: 0.0074 - acc: 0.9975 - val_loss: 0.0082 - val_acc: 0.9985\n",
      "Epoch 3/10\n",
      "5959/5959 [==============================] - 1s 138us/sample - loss: 0.0026 - acc: 0.9990 - val_loss: 2.8071e-05 - val_acc: 1.0000\n",
      "Epoch 4/10\n",
      "5959/5959 [==============================] - 1s 139us/sample - loss: 0.0017 - acc: 0.9995 - val_loss: 0.0050 - val_acc: 0.9970\n",
      "Epoch 5/10\n",
      "5959/5959 [==============================] - 1s 138us/sample - loss: 0.0017 - acc: 0.9993 - val_loss: 5.2512e-04 - val_acc: 1.0000\n",
      "Epoch 6/10\n",
      "5959/5959 [==============================] - 1s 138us/sample - loss: 8.3014e-04 - acc: 0.9997 - val_loss: 0.0091 - val_acc: 0.9970\n",
      "Epoch 7/10\n",
      "5959/5959 [==============================] - 1s 137us/sample - loss: 3.0485e-04 - acc: 1.0000 - val_loss: 1.3170e-04 - val_acc: 1.0000\n",
      "Epoch 8/10\n",
      "5959/5959 [==============================] - 1s 137us/sample - loss: 1.9864e-04 - acc: 1.0000 - val_loss: 4.4125e-04 - val_acc: 1.0000\n"
     ]
    }
   ],
   "source": [
    "for model_name, model in models.items():\n",
    "    for experiment_dataset in experiments:\n",
    "        run_experiment(experiment_dataset, model, model_name)"
   ]
  },
  {
   "cell_type": "markdown",
   "metadata": {},
   "source": [
    "## Model "
   ]
  },
  {
   "cell_type": "code",
   "execution_count": 10,
   "metadata": {},
   "outputs": [],
   "source": [
    "# print(tf.VERSION)\n",
    "# print(keras.__version__)"
   ]
  },
  {
   "cell_type": "code",
   "execution_count": 10,
   "metadata": {},
   "outputs": [],
   "source": [
    "# history = model.fit(\n",
    "#     X_train, Y_train,\n",
    "#     batch_size=batch_size,\n",
    "#     epochs=epochs,\n",
    "#     verbose=1,\n",
    "#     validation_split=0.1,\n",
    "#     callbacks=[EarlyStopping(monitor='val_loss', patience=5)],\n",
    "# )"
   ]
  },
  {
   "cell_type": "code",
   "execution_count": 15,
   "metadata": {},
   "outputs": [
    {
     "name": "stdout",
     "output_type": "stream",
     "text": [
      "3311/3311 [==============================] - 0s 87us/sample - loss: 0.0194 - acc: 0.9937\n",
      "\n",
      "\n",
      "Test score: 0.019373496186254842\n",
      "Test accuracy: 0.9936575\n"
     ]
    }
   ],
   "source": [
    "# # New\n",
    "# score = model.evaluate(X_test, Y_test,\n",
    "#                        batch_size=batch_size, verbose=1)\n",
    "# print('\\n')\n",
    "# print('Test score:', score[0])\n",
    "# print('Test accuracy:', score[1])"
   ]
  },
  {
   "cell_type": "code",
   "execution_count": 16,
   "metadata": {},
   "outputs": [
    {
     "name": "stdout",
     "output_type": "stream",
     "text": [
      "3311/3311 [==============================] - 0s 112us/sample\n"
     ]
    }
   ],
   "source": [
    "# Y_pred = model.predict_classes(X_test, verbose=1)"
   ]
  },
  {
   "cell_type": "code",
   "execution_count": 17,
   "metadata": {},
   "outputs": [
    {
     "name": "stdout",
     "output_type": "stream",
     "text": [
      "Normalized confusion matrix\n",
      "[[0.99701136 0.00298864]\n",
      " [0.00976801 0.99023199]]\n"
     ]
    },
    {
     "data": {
      "image/png": "[encoded data removed]",
      "text/plain": [
       "<Figure size 432x288 with 2 Axes>"
      ]
     },
     "metadata": {},
     "output_type": "display_data"
    }
   ],
   "source": [
    "# Y_test_flat = np.array(list(map(lambda x: x[1]==1 and 1 or 0, Y_test)))\n",
    "# with sns.axes_style(\"darkgrid\", {\"axes.grid\": False}):\n",
    "#     plot_confusion_matrix(\n",
    "#         Y_test_flat,\n",
    "#         Y_pred,\n",
    "#         classes=np.array(CLASS_NAMES),\n",
    "#         normalize=True,\n",
    "#         title=f'Confusion matrix for {CLASS_NAMES[0]} vs {CLASS_NAMES[1]}'\n",
    "#     )"
   ]
  },
  {
   "cell_type": "code",
   "execution_count": 18,
   "metadata": {},
   "outputs": [
    {
     "name": "stdout",
     "output_type": "stream",
     "text": [
      "3311/3311 [==============================] - 0s 114us/sample\n"
     ]
    }
   ],
   "source": [
    "# Y_pred_probas = model.predict(X_test, verbose=1)[:,1]\n",
    "# fpr_keras, tpr_keras, thresholds_keras = roc_curve(Y_test_flat, Y_pred_probas)\n",
    "# auc_keras = auc(fpr_keras, tpr_keras)"
   ]
  },
  {
   "cell_type": "code",
   "execution_count": 19,
   "metadata": {},
   "outputs": [
    {
     "data": {
      "text/plain": [
       "<matplotlib.legend.Legend at 0x7fad607f6ef0>"
      ]
     },
     "execution_count": 19,
     "metadata": {},
     "output_type": "execute_result"
    },
    {
     "data": {
      "image/png": "[encoded data removed]",
      "text/plain": [
       "<Figure size 432x288 with 1 Axes>"
      ]
     },
     "metadata": {
      "needs_background": "light"
     },
     "output_type": "display_data"
    }
   ],
   "source": [
    "# plt.plot(fpr_keras, tpr_keras, label='Keras (area = {:.3f})'.format(auc_keras))\n",
    "# plt.legend(loc='lower right')"
   ]
  },
  {
   "cell_type": "markdown",
   "metadata": {},
   "source": [
    "# Trash"
   ]
  },
  {
   "cell_type": "code",
   "execution_count": 5,
   "metadata": {},
   "outputs": [],
   "source": [
    "# with open('data_link/L1/data/all_50_last.txt', 'r') as file:\n",
    "#     target_sequences = np.array([line.strip().upper() for line in file.readlines() if all(base in set(line) for base in 'ACTG')])\n",
    "# with open('pseudogenes_50_last.txt', 'r') as file:\n",
    "#     non_target_sequences = np.array([line.strip().upper() for line in file.readlines() if all(base in set(line) for base in 'ACTG')])\n",
    "# CLASS_NAMES = ['L1', 'p_pseudo']\n",
    "\n",
    "\n",
    "\n"
   ]
  },
  {
   "cell_type": "code",
   "execution_count": null,
   "metadata": {},
   "outputs": [],
   "source": []
  }
 ],
 "metadata": {
  "kernelspec": {
   "display_name": "Python 3",
   "language": "python",
   "name": "python3"
  },
  "language_info": {
   "codemirror_mode": {
    "name": "ipython",
    "version": 3
   },
   "file_extension": ".py",
   "mimetype": "text/x-python",
   "name": "python",
   "nbconvert_exporter": "python",
   "pygments_lexer": "ipython3",
   "version": "3.6.6"
  }
 },
 "nbformat": 4,
 "nbformat_minor": 2
}
